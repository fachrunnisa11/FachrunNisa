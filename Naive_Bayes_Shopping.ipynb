{
  "nbformat": 4,
  "nbformat_minor": 0,
  "metadata": {
    "colab": {
      "provenance": [],
      "authorship_tag": "ABX9TyOy8d9z1krBkN5GLHfVSlrF",
      "include_colab_link": true
    },
    "kernelspec": {
      "name": "python3",
      "display_name": "Python 3"
    },
    "language_info": {
      "name": "python"
    }
  },
  "cells": [
    {
      "cell_type": "markdown",
      "metadata": {
        "id": "view-in-github",
        "colab_type": "text"
      },
      "source": [
        "<a href=\"https://colab.research.google.com/github/fachrunnisa11/FachrunNisa/blob/main/Naive_Bayes_Shopping.ipynb\" target=\"_parent\"><img src=\"https://colab.research.google.com/assets/colab-badge.svg\" alt=\"Open In Colab\"/></a>"
      ]
    },
    {
      "cell_type": "code",
      "execution_count": 1,
      "metadata": {
        "id": "7rfxWG8io-Jv"
      },
      "outputs": [],
      "source": [
        "import numpy as np\n",
        "import pandas as pd\n",
        "from sklearn.preprocessing import LabelEncoder\n",
        "from sklearn.model_selection import train_test_split\n",
        "from sklearn.preprocessing import StandardScaler\n",
        "from sklearn.naive_bayes import GaussianNB\n",
        "from sklearn.metrics import confusion_matrix, classification_report, accuracy_score"
      ]
    },
    {
      "cell_type": "code",
      "source": [
        "dataset = pd.read_excel('Shopping_Dataset.xlsx')\n",
        "\n",
        "if dataset.empty:\n",
        "    print(\"Dataset is empty\")\n",
        "else:\n",
        "    print(\"Dataset loaded successfully\")\n",
        "    print(dataset.head())"
      ],
      "metadata": {
        "colab": {
          "base_uri": "https://localhost:8080/"
        },
        "id": "j8pikDIxpeEX",
        "outputId": "5fc1f723-4973-4c2d-fffa-ee0aa02de90d"
      },
      "execution_count": 2,
      "outputs": [
        {
          "output_type": "stream",
          "name": "stdout",
          "text": [
            "Dataset loaded successfully\n",
            "       Day Discount Free Delivery Purchase\n",
            "0  Weekday      Yes           Yes      Yes\n",
            "1  Weekday      Yes           Yes      Yes\n",
            "2  Weekday       No            No       No\n",
            "3  Holiday      Yes           Yes      Yes\n",
            "4  Weekend      Yes           Yes      Yes\n"
          ]
        }
      ]
    },
    {
      "cell_type": "code",
      "source": [
        "label_encoders = {}\n",
        "for column in dataset.select_dtypes(include=['object']).columns:\n",
        "    label_encoders[column] = LabelEncoder()\n",
        "    dataset[column] = label_encoders[column].fit_transform(dataset[column])\n",
        "\n",
        "if dataset['Purchase'].dtype == 'object':\n",
        "    en = LabelEncoder()\n",
        "    dataset['Purchase'] = en.fit_transform(dataset['Purchase'])\n",
        "\n",
        "print(dataset.head())"
      ],
      "metadata": {
        "colab": {
          "base_uri": "https://localhost:8080/"
        },
        "id": "-L2-4y5fp74Y",
        "outputId": "5c13f9a7-3949-4601-c8b9-c321b6098d70"
      },
      "execution_count": 4,
      "outputs": [
        {
          "output_type": "stream",
          "name": "stdout",
          "text": [
            "   Day  Discount  Free Delivery  Purchase\n",
            "0    1         1              1         1\n",
            "1    1         1              1         1\n",
            "2    1         0              0         0\n",
            "3    0         1              1         1\n",
            "4    2         1              1         1\n"
          ]
        }
      ]
    },
    {
      "cell_type": "code",
      "source": [
        "x = dataset.iloc[:, :-1].values\n",
        "y = dataset.iloc[:, -1].values"
      ],
      "metadata": {
        "id": "DiCPsezpqTEI"
      },
      "execution_count": 5,
      "outputs": []
    },
    {
      "cell_type": "code",
      "source": [
        "x_train, x_test, y_train, y_test = train_test_split(x, y, test_size=0.2, random_state=123)\n",
        "\n",
        "print(\"x_train shape:\", x_train.shape)\n",
        "print(\"x_test shape:\", x_test.shape)\n",
        "print(\"y_train length:\", len(y_train))\n",
        "print(\"y_test length:\", len(y_test))"
      ],
      "metadata": {
        "colab": {
          "base_uri": "https://localhost:8080/"
        },
        "id": "micHBHL8qYw7",
        "outputId": "fb2dfd96-8b16-4838-8429-036555d33eec"
      },
      "execution_count": 6,
      "outputs": [
        {
          "output_type": "stream",
          "name": "stdout",
          "text": [
            "x_train shape: (24, 3)\n",
            "x_test shape: (6, 3)\n",
            "y_train length: 24\n",
            "y_test length: 6\n"
          ]
        }
      ]
    },
    {
      "cell_type": "code",
      "source": [
        "print(\"NaN in x_train:\", np.isnan(x_train).any())\n",
        "print(\"NaN in x_test:\", np.isnan(x_test).any())"
      ],
      "metadata": {
        "colab": {
          "base_uri": "https://localhost:8080/"
        },
        "id": "XqtzvfFnqjE_",
        "outputId": "2841f840-733c-4518-d2dd-e3a72e96e296"
      },
      "execution_count": 7,
      "outputs": [
        {
          "output_type": "stream",
          "name": "stdout",
          "text": [
            "NaN in x_train: False\n",
            "NaN in x_test: False\n"
          ]
        }
      ]
    },
    {
      "cell_type": "code",
      "source": [
        "sc = StandardScaler()\n",
        "\n",
        "try:\n",
        "    x_train = sc.fit_transform(x_train)\n",
        "    x_test = sc.transform(x_test)\n",
        "    print(\"Feature scaling successful.\")\n",
        "except Exception as e:\n",
        "    print(f\"An error occurred during feature scaling: {e}\")\n"
      ],
      "metadata": {
        "colab": {
          "base_uri": "https://localhost:8080/"
        },
        "id": "tsBaPn6fqpvH",
        "outputId": "90d4a98a-f06d-4a60-c8da-dd3d48a45874"
      },
      "execution_count": 8,
      "outputs": [
        {
          "output_type": "stream",
          "name": "stdout",
          "text": [
            "Feature scaling successful.\n"
          ]
        }
      ]
    },
    {
      "cell_type": "code",
      "source": [
        "try:\n",
        "    gnb = GaussianNB()\n",
        "    gnb.fit(x_train, y_train)\n",
        "    print(\"Model training successful.\")\n",
        "except Exception as e:\n",
        "    print(f\"An error occurred during model training: {e}\")\n"
      ],
      "metadata": {
        "colab": {
          "base_uri": "https://localhost:8080/"
        },
        "id": "Mr8zHzi0qzWP",
        "outputId": "ad8255c1-ff7d-4890-9b8a-7f54410dc807"
      },
      "execution_count": 9,
      "outputs": [
        {
          "output_type": "stream",
          "name": "stdout",
          "text": [
            "Model training successful.\n"
          ]
        }
      ]
    },
    {
      "cell_type": "code",
      "source": [
        "try:\n",
        "    y_pred = gnb.predict(x_test)\n",
        "    print(\"Prediction successful.\")\n",
        "except Exception as e:\n",
        "    print(f\"An error occurred during prediction: {e}\")\n"
      ],
      "metadata": {
        "colab": {
          "base_uri": "https://localhost:8080/"
        },
        "id": "6_zjqxozq4S9",
        "outputId": "5960cd5d-a145-4977-eb98-07f3dcece392"
      },
      "execution_count": 10,
      "outputs": [
        {
          "output_type": "stream",
          "name": "stdout",
          "text": [
            "Prediction successful.\n"
          ]
        }
      ]
    },
    {
      "cell_type": "code",
      "source": [
        "try:\n",
        "    conf_matrix = confusion_matrix(y_test, y_pred)\n",
        "    class_report = classification_report(y_test, y_pred)\n",
        "    accuracy = accuracy_score(y_test, y_pred)\n",
        "\n",
        "    print(\"Confusion Matrix:\")\n",
        "    print(conf_matrix)\n",
        "    print(\"\\nClassification Report:\")\n",
        "    print(class_report)\n",
        "    print(\"\\nAccuracy Score:\", accuracy)\n",
        "except Exception as e:\n",
        "    print(f\"An error occurred during evaluation: {e}\")"
      ],
      "metadata": {
        "colab": {
          "base_uri": "https://localhost:8080/"
        },
        "id": "UJnoi5qaq68H",
        "outputId": "94238326-514c-424f-bfc4-24cd0ef8f3d6"
      },
      "execution_count": 11,
      "outputs": [
        {
          "output_type": "stream",
          "name": "stdout",
          "text": [
            "Confusion Matrix:\n",
            "[[1 0]\n",
            " [0 5]]\n",
            "\n",
            "Classification Report:\n",
            "              precision    recall  f1-score   support\n",
            "\n",
            "           0       1.00      1.00      1.00         1\n",
            "           1       1.00      1.00      1.00         5\n",
            "\n",
            "    accuracy                           1.00         6\n",
            "   macro avg       1.00      1.00      1.00         6\n",
            "weighted avg       1.00      1.00      1.00         6\n",
            "\n",
            "\n",
            "Accuracy Score: 1.0\n"
          ]
        }
      ]
    }
  ]
}